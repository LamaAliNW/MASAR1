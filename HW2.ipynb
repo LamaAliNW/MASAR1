{
  "nbformat": 4,
  "nbformat_minor": 0,
  "metadata": {
    "colab": {
      "provenance": [],
      "authorship_tag": "ABX9TyOiWjch3w5R2y+CnFCvC4g6",
      "include_colab_link": true
    },
    "kernelspec": {
      "name": "python3",
      "display_name": "Python 3"
    },
    "language_info": {
      "name": "python"
    }
  },
  "cells": [
    {
      "cell_type": "markdown",
      "metadata": {
        "id": "view-in-github",
        "colab_type": "text"
      },
      "source": [
        "<a href=\"https://colab.research.google.com/github/LamaAliNW/MASAR1/blob/main/HW2.ipynb\" target=\"_parent\"><img src=\"https://colab.research.google.com/assets/colab-badge.svg\" alt=\"Open In Colab\"/></a>"
      ]
    },
    {
      "cell_type": "code",
      "source": [
        "def calculate_bonus(years, evaluation):\n",
        "    if years <= 10:\n",
        "        if evaluation == \"Excellent\":\n",
        "            bonus_percentage = 0.10\n",
        "        elif evaluation == \"Poor\":\n",
        "            bonus_percentage = 0.05\n",
        "        else:\n",
        "            bonus_percentage = 0\n",
        "    else:\n",
        "        if evaluation == \"Excellent\":\n",
        "            bonus_percentage = 0.20\n",
        "        elif evaluation == \"Poor\":\n",
        "            bonus_percentage = 0.15\n",
        "        else:\n",
        "            bonus_percentage = 0\n",
        "\n",
        "    return bonus_percentage\n",
        "\n"
      ],
      "metadata": {
        "id": "ao4iBuqOfRGl"
      },
      "execution_count": 7,
      "outputs": []
    },
    {
      "cell_type": "code",
      "source": [
        "\n",
        "# تعيين القيم\n",
        "employee_years = 8\n",
        "employee_evaluation = \"Excellent\"\n",
        "\n",
        "# حساب المكافأة\n",
        "bonus = calculate_bonus(employee_years, employee_evaluation)\n",
        "\n",
        "# طباعة نتيجة الحساب\n",
        "print(f\"معدل المكافأة: {bonus * 100}%\")"
      ],
      "metadata": {
        "colab": {
          "base_uri": "https://localhost:8080/"
        },
        "id": "1ulYQ9Voftla",
        "outputId": "a1b41734-3900-4b9a-fe40-946776082c26"
      },
      "execution_count": 8,
      "outputs": [
        {
          "output_type": "stream",
          "name": "stdout",
          "text": [
            "معدل المكافأة: 10.0%\n"
          ]
        }
      ]
    },
    {
      "cell_type": "code",
      "source": [
        "# تعيين القيم\n",
        "employee_years = 25\n",
        "employee_evaluation = \"Excellent\"\n",
        "\n",
        "# حساب المكافأة\n",
        "bonus = calculate_bonus(employee_years, employee_evaluation)\n",
        "\n",
        "# طباعة نتيجة الحساب\n",
        "print(f\"معدل المكافأة: {bonus * 100}%\")"
      ],
      "metadata": {
        "colab": {
          "base_uri": "https://localhost:8080/"
        },
        "id": "U_Uk6_CDf6dY",
        "outputId": "5f6f12e6-9cb9-493c-a789-b766007d112b"
      },
      "execution_count": 9,
      "outputs": [
        {
          "output_type": "stream",
          "name": "stdout",
          "text": [
            "معدل المكافأة: 20.0%\n"
          ]
        }
      ]
    },
    {
      "cell_type": "code",
      "source": [
        "# تعيين القيم\n",
        "employee_years = 1\n",
        "employee_evaluation = \"Poor\"\n",
        "\n",
        "# حساب المكافأة\n",
        "bonus = calculate_bonus(employee_years, employee_evaluation)\n",
        "\n",
        "# طباعة نتيجة الحساب\n",
        "print(f\"معدل المكافأة: {bonus * 100}%\")"
      ],
      "metadata": {
        "colab": {
          "base_uri": "https://localhost:8080/"
        },
        "id": "VjYVeqqSf_ZM",
        "outputId": "f0fce623-1c73-488f-a741-9a755774413f"
      },
      "execution_count": 11,
      "outputs": [
        {
          "output_type": "stream",
          "name": "stdout",
          "text": [
            "معدل المكافأة: 5.0%\n"
          ]
        }
      ]
    },
    {
      "cell_type": "code",
      "source": [
        "# تعيين القيم\n",
        "employee_years = 33\n",
        "employee_evaluation = \"Poor\"\n",
        "\n",
        "# حساب المكافأة\n",
        "bonus = calculate_bonus(employee_years, employee_evaluation)\n",
        "\n",
        "# طباعة نتيجة الحساب\n",
        "print(f\"معدل المكافأة: {bonus * 100}%\")"
      ],
      "metadata": {
        "colab": {
          "base_uri": "https://localhost:8080/"
        },
        "id": "VwXmfGOngKhP",
        "outputId": "745b26ec-ff65-4232-e007-39714e369053"
      },
      "execution_count": 12,
      "outputs": [
        {
          "output_type": "stream",
          "name": "stdout",
          "text": [
            "معدل المكافأة: 15.0%\n"
          ]
        }
      ]
    },
    {
      "cell_type": "code",
      "source": [
        "# تعيين القيم\n",
        "employee_years = 8\n",
        "employee_evaluation = \"not \"\n",
        "\n",
        "# حساب المكافأة\n",
        "bonus = calculate_bonus(employee_years, employee_evaluation)\n",
        "\n",
        "# طباعة نتيجة الحساب\n",
        "print(f\"معدل المكافأة: {bonus * 100}%\")"
      ],
      "metadata": {
        "colab": {
          "base_uri": "https://localhost:8080/"
        },
        "id": "Yu-C45ifgPAk",
        "outputId": "326cc070-a77d-46fb-816e-5096c3083f6f"
      },
      "execution_count": 13,
      "outputs": [
        {
          "output_type": "stream",
          "name": "stdout",
          "text": [
            "معدل المكافأة: 0%\n"
          ]
        }
      ]
    }
  ]
}