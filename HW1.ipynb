{
  "nbformat": 4,
  "nbformat_minor": 0,
  "metadata": {
    "colab": {
      "provenance": [],
      "authorship_tag": "ABX9TyNLpSr3Kn1oKOVe3d46lErz",
      "include_colab_link": true
    },
    "kernelspec": {
      "name": "python3",
      "display_name": "Python 3"
    },
    "language_info": {
      "name": "python"
    }
  },
  "cells": [
    {
      "cell_type": "markdown",
      "metadata": {
        "id": "view-in-github",
        "colab_type": "text"
      },
      "source": [
        "<a href=\"https://colab.research.google.com/github/LamaAliNW/MASAR1/blob/main/HW1.ipynb\" target=\"_parent\"><img src=\"https://colab.research.google.com/assets/colab-badge.svg\" alt=\"Open In Colab\"/></a>"
      ]
    },
    {
      "cell_type": "code",
      "source": [
        "المحور الأول : دروس عن بايثون"
      ],
      "metadata": {
        "id": "oOTSRw-28y0H"
      },
      "execution_count": null,
      "outputs": []
    },
    {
      "cell_type": "code",
      "execution_count": 5,
      "metadata": {
        "colab": {
          "base_uri": "https://localhost:8080/"
        },
        "id": "Wt2kd-sP7fcX",
        "outputId": "10ddb11c-c0a1-43d5-cbbf-22afb324019f"
      },
      "outputs": [
        {
          "output_type": "stream",
          "name": "stdout",
          "text": [
            "  أهلا بالجميع ، أنا اسمي  {Name}   عمري  , {Age}  سأصبح أفضل عالمة بيانات \n"
          ]
        }
      ],
      "source": [
        "## HOME WORK 1\n",
        "# var for name\n",
        "Name = \"لمى  \"\n",
        "# var for age\n",
        "Age = 25\n",
        "# print\n",
        "print(\"  أهلا بالجميع ، أنا اسمي  {Name}   عمري  , {Age}  سأصبح أفضل عالمة بيانات \")\n"
      ]
    },
    {
      "cell_type": "markdown",
      "source": [],
      "metadata": {
        "id": "3qZzGcDqAcs7"
      }
    }
  ]
}